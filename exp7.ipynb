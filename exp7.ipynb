{
  "nbformat": 4,
  "nbformat_minor": 0,
  "metadata": {
    "colab": {
      "provenance": [],
      "authorship_tag": "ABX9TyNbIynjfwOSXu5wSXJfd0/u",
      "include_colab_link": true
    },
    "kernelspec": {
      "name": "python3",
      "display_name": "Python 3"
    },
    "language_info": {
      "name": "python"
    }
  },
  "cells": [
    {
      "cell_type": "markdown",
      "metadata": {
        "id": "view-in-github",
        "colab_type": "text"
      },
      "source": [
        "<a href=\"https://colab.research.google.com/github/paveena703/data-exploration-1/blob/main/exp7.ipynb\" target=\"_parent\"><img src=\"https://colab.research.google.com/assets/colab-badge.svg\" alt=\"Open In Colab\"/></a>"
      ]
    },
    {
      "cell_type": "code",
      "execution_count": null,
      "metadata": {
        "id": "hzW2LgJ_et9-"
      },
      "outputs": [],
      "source": [
        "!pip install pandas matplotlib fakerimport datetime\n",
        "import random\n",
        "import pandas as pd\n",
        "import matplotlib.pyplot as plt\n",
        "from faker import Faker\n",
        "# Initialize Faker (for optional use in future, not essential here)\n",
        "fake = Faker()def generateData(n):\n",
        "    listdata = []  # Initialize an empty list to store the data\n",
        "    start = datetime.datetime(2019, 8, 1)  # Start date\n",
        "    end = datetime.datetime(2019, 8, 30)  # End date\n",
        "    delta = end - start  # Calculate the time difference between start and end dates\n",
        "\n",
        "    for _ in range(n):  # Loop to generate 'n' entries\n",
        "        # Generate random date between start and end\n",
        "        random_date = start + datetime.timedelta(days=random.randint(0, delta.days))\n",
        "\n",
        "        # Generate random price between 900 and 1000\n",
        "        price = round(random.uniform(900, 1000), 4)  # Round to 4 decimal places\n",
        "\n",
        "        # Append the generated date and price to the list\n",
        "        listdata.append([random_date.strftime(\"%Y-%m-%d\"), price])  # Format date to 'YYYY-MM-DD'\n",
        "\n",
        "    # Convert the list into a pandas DataFrame\n",
        "    df = pd.DataFrame(listdata, columns=['Date', 'Price'])\n",
        "\n",
        "    # Convert 'Date' column to datetime type\n",
        "    df['Date'] = pd.to_datetime(df['Date'], format=\"%Y-%m-%d\")\n",
        "\n",
        "    # Group the data by 'Date' and calculate the average price for each date\n",
        "    df = df.groupby(by='Date').mean()\n",
        "\n",
        "    return df  # Return the DataFrame with average price by date\n",
        "# Generate random data with 100 entries\n",
        "df = generateData(100)\n",
        "\n",
        "# Display the first few rows of the DataFrame to check the generated data\n",
        "print(df.head())# Step 6: Plotting the Data\n",
        "plt.rcParams['figure.figsize'] = (14, 10)  # Set the figure size\n",
        "plt.plot(df.index, df['Price'], marker='o', linestyle='-', color='b')  # Plot price vs date\n",
        "plt.title('Price Trend Over August 2019')  # Set the title of the plot\n",
        "plt.xlabel('Date')  # Set x-axis label\n",
        "plt.ylabel('Price')  # Set y-axis label\n",
        "plt.xticks(rotation=45)  # Rotate the date labels for better readability\n",
        "plt.grid(True)  # Display grid lines\n",
        "plt.show()  # Show the plot\n",
        "# Step 6: Plotting the Data\n",
        "plt.rcParams['figure.figsize'] = (14, 10)  # Set the figure size\n",
        "plt.plot(df.index, df['Price'], marker='o', linestyle='-', color='b')  # Plot price vs date\n",
        "plt.title('Price Trend Over August 2019')  # Set the title of the plot\n",
        "plt.xlabel('Date')  # Set x-axis label\n",
        "plt.ylabel('Price')  # Set y-axis label\n",
        "plt.xticks(rotation=45)  # Rotate the date labels for better readability\n",
        "plt.grid(True)  # Display grid lines\n",
        "plt.show()  # Show the plot"
      ]
    }
  ]
}